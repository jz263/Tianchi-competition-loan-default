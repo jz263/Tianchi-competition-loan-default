{
 "cells": [
  {
   "cell_type": "code",
   "execution_count": 2,
   "metadata": {},
   "outputs": [],
   "source": [
    "import os \n",
    "import sys\n",
    "import pandas as pd\n",
    "import numpy as np\n",
    "import matplotlib.pyplot as plt\n",
    "\n",
    "from sklearn.metrics import accuracy_score, f1_score, roc_auc_score, log_loss,roc_curve"
   ]
  },
  {
   "cell_type": "code",
   "execution_count": 29,
   "metadata": {},
   "outputs": [],
   "source": [
    "df_lgb_res = pd.read_csv('../03_result/trainA_pred_lgb7370.csv')[['id','0','isDefault']]"
   ]
  },
  {
   "cell_type": "code",
   "execution_count": 31,
   "metadata": {},
   "outputs": [],
   "source": [
    "df_lgb_res.rename(\n",
    "    columns={'0':'pred',\n",
    "            'isDefault':'label'}\n",
    "                    , inplace=True)"
   ]
  },
  {
   "cell_type": "code",
   "execution_count": 32,
   "metadata": {},
   "outputs": [],
   "source": [
    "fpr,tpr,thresholds = roc_curve(df_lgb_res.label,df_lgb_res.pred)"
   ]
  },
  {
   "cell_type": "code",
   "execution_count": 33,
   "metadata": {},
   "outputs": [],
   "source": [
    "df_pred_ordered = df_lgb_res.sort_values(by='pred',ascending=False).reset_index(drop=True)"
   ]
  },
  {
   "cell_type": "code",
   "execution_count": 34,
   "metadata": {},
   "outputs": [],
   "source": [
    "# plot gains chart\n",
    "def plot_gains(df_pred_ordered):\n",
    "    df_pred_ordered['gains'] = df_pred_ordered.label.cumsum()\n",
    "    df_pred_ordered['gains_perc'] = df_pred_ordered.gains / df_pred_ordered.gains.max()\n",
    "    return df_pred_ordered    "
   ]
  },
  {
   "cell_type": "code",
   "execution_count": 70,
   "metadata": {},
   "outputs": [],
   "source": [
    "# calculate lift table\n",
    "def calculate_lift(df_pred_ordered):\n",
    "    df_pred_ordered['lift'] =  df_pred_ordered.gains_perc / (df_pred_ordered.index/df_pred_ordered.shape[0])\n",
    "    return df_pred_ordered\n"
   ]
  },
  {
   "cell_type": "code",
   "execution_count": 35,
   "metadata": {},
   "outputs": [],
   "source": [
    "df_pred_ordered_with_gains = plot_gains(df_pred_ordered)"
   ]
  },
  {
   "cell_type": "code",
   "execution_count": 60,
   "metadata": {},
   "outputs": [],
   "source": [
    "cut_off_indexes = np.linspace(1,10,10)*80000-1"
   ]
  },
  {
   "cell_type": "code",
   "execution_count": 61,
   "metadata": {},
   "outputs": [],
   "source": [
    "df_gains_chart = df_pred_ordered_with_gains.iloc[cut_off_indexes,:]['gains_perc']"
   ]
  },
  {
   "cell_type": "code",
   "execution_count": 68,
   "metadata": {},
   "outputs": [],
   "source": [
    "df_gains_chart = df_gains_chart.append(pd.Series(0,index=[0])).sort_index()"
   ]
  },
  {
   "cell_type": "code",
   "execution_count": 69,
   "metadata": {},
   "outputs": [
    {
     "data": {
      "text/plain": [
       "[<matplotlib.lines.Line2D at 0x1b545f2d608>]"
      ]
     },
     "execution_count": 69,
     "metadata": {},
     "output_type": "execute_result"
    },
    {
     "data": {
      "image/png": "[encoded data removed]",
      "text/plain": [
       "<Figure size 720x432 with 1 Axes>"
      ]
     },
     "metadata": {
      "needs_background": "light"
     },
     "output_type": "display_data"
    }
   ],
   "source": [
    "plt.figure(figsize=(10,6))\n",
    "plt.axis([0,800000,0,1])\n",
    "plt.plot(df_gains_chart)"
   ]
  },
  {
   "cell_type": "code",
   "execution_count": 72,
   "metadata": {},
   "outputs": [],
   "source": [
    "df_lift_chart = calculate_lift(df_pred_ordered_with_gains)"
   ]
  },
  {
   "cell_type": "code",
   "execution_count": 74,
   "metadata": {},
   "outputs": [
    {
     "data": {
      "text/html": [
       "<div>\n",
       "<style scoped>\n",
       "    .dataframe tbody tr th:only-of-type {\n",
       "        vertical-align: middle;\n",
       "    }\n",
       "\n",
       "    .dataframe tbody tr th {\n",
       "        vertical-align: top;\n",
       "    }\n",
       "\n",
       "    .dataframe thead th {\n",
       "        text-align: right;\n",
       "    }\n",
       "</style>\n",
       "<table border=\"1\" class=\"dataframe\">\n",
       "  <thead>\n",
       "    <tr style=\"text-align: right;\">\n",
       "      <th></th>\n",
       "      <th>id</th>\n",
       "      <th>pred</th>\n",
       "      <th>label</th>\n",
       "      <th>gains</th>\n",
       "      <th>gains_perc</th>\n",
       "      <th>lift</th>\n",
       "    </tr>\n",
       "  </thead>\n",
       "  <tbody>\n",
       "    <tr>\n",
       "      <th>79999</th>\n",
       "      <td>65406</td>\n",
       "      <td>0.721724</td>\n",
       "      <td>0</td>\n",
       "      <td>40126</td>\n",
       "      <td>0.251400</td>\n",
       "      <td>2.514034</td>\n",
       "    </tr>\n",
       "    <tr>\n",
       "      <th>159999</th>\n",
       "      <td>722971</td>\n",
       "      <td>0.633879</td>\n",
       "      <td>1</td>\n",
       "      <td>67823</td>\n",
       "      <td>0.424930</td>\n",
       "      <td>2.124661</td>\n",
       "    </tr>\n",
       "    <tr>\n",
       "      <th>239999</th>\n",
       "      <td>455665</td>\n",
       "      <td>0.562427</td>\n",
       "      <td>0</td>\n",
       "      <td>89695</td>\n",
       "      <td>0.561964</td>\n",
       "      <td>1.873220</td>\n",
       "    </tr>\n",
       "    <tr>\n",
       "      <th>319999</th>\n",
       "      <td>538463</td>\n",
       "      <td>0.498206</td>\n",
       "      <td>0</td>\n",
       "      <td>107864</td>\n",
       "      <td>0.675797</td>\n",
       "      <td>1.689498</td>\n",
       "    </tr>\n",
       "    <tr>\n",
       "      <th>399999</th>\n",
       "      <td>372612</td>\n",
       "      <td>0.436946</td>\n",
       "      <td>1</td>\n",
       "      <td>122656</td>\n",
       "      <td>0.768473</td>\n",
       "      <td>1.536950</td>\n",
       "    </tr>\n",
       "    <tr>\n",
       "      <th>479999</th>\n",
       "      <td>193048</td>\n",
       "      <td>0.376355</td>\n",
       "      <td>0</td>\n",
       "      <td>134793</td>\n",
       "      <td>0.844515</td>\n",
       "      <td>1.407528</td>\n",
       "    </tr>\n",
       "    <tr>\n",
       "      <th>559999</th>\n",
       "      <td>698269</td>\n",
       "      <td>0.314103</td>\n",
       "      <td>0</td>\n",
       "      <td>144519</td>\n",
       "      <td>0.905451</td>\n",
       "      <td>1.293503</td>\n",
       "    </tr>\n",
       "    <tr>\n",
       "      <th>639999</th>\n",
       "      <td>339490</td>\n",
       "      <td>0.247965</td>\n",
       "      <td>0</td>\n",
       "      <td>152048</td>\n",
       "      <td>0.952622</td>\n",
       "      <td>1.190779</td>\n",
       "    </tr>\n",
       "    <tr>\n",
       "      <th>719999</th>\n",
       "      <td>624411</td>\n",
       "      <td>0.169656</td>\n",
       "      <td>0</td>\n",
       "      <td>157128</td>\n",
       "      <td>0.984450</td>\n",
       "      <td>1.093834</td>\n",
       "    </tr>\n",
       "    <tr>\n",
       "      <th>799999</th>\n",
       "      <td>729794</td>\n",
       "      <td>0.006166</td>\n",
       "      <td>0</td>\n",
       "      <td>159610</td>\n",
       "      <td>1.000000</td>\n",
       "      <td>1.000001</td>\n",
       "    </tr>\n",
       "  </tbody>\n",
       "</table>\n",
       "</div>"
      ],
      "text/plain": [
       "            id      pred  label   gains  gains_perc      lift\n",
       "79999    65406  0.721724      0   40126    0.251400  2.514034\n",
       "159999  722971  0.633879      1   67823    0.424930  2.124661\n",
       "239999  455665  0.562427      0   89695    0.561964  1.873220\n",
       "319999  538463  0.498206      0  107864    0.675797  1.689498\n",
       "399999  372612  0.436946      1  122656    0.768473  1.536950\n",
       "479999  193048  0.376355      0  134793    0.844515  1.407528\n",
       "559999  698269  0.314103      0  144519    0.905451  1.293503\n",
       "639999  339490  0.247965      0  152048    0.952622  1.190779\n",
       "719999  624411  0.169656      0  157128    0.984450  1.093834\n",
       "799999  729794  0.006166      0  159610    1.000000  1.000001"
      ]
     },
     "execution_count": 74,
     "metadata": {},
     "output_type": "execute_result"
    }
   ],
   "source": [
    "df_lift_chart.iloc[cut_off_indexes,:]"
   ]
  },
  {
   "cell_type": "code",
   "execution_count": null,
   "metadata": {},
   "outputs": [],
   "source": []
  }
 ],
 "metadata": {
  "interpreter": {
   "hash": "ea64959abdaf027a8feddac6c2c17ed3b041b2f0e2b4d78e4385c68c712586c5"
  },
  "kernelspec": {
   "display_name": "Python 3.7.6 64-bit ('base': conda)",
   "language": "python",
   "name": "python3"
  },
  "language_info": {
   "codemirror_mode": {
    "name": "ipython",
    "version": 3
   },
   "file_extension": ".py",
   "mimetype": "text/x-python",
   "name": "python",
   "nbconvert_exporter": "python",
   "pygments_lexer": "ipython3",
   "version": "3.7.6"
  },
  "orig_nbformat": 4
 },
 "nbformat": 4,
 "nbformat_minor": 2
}
