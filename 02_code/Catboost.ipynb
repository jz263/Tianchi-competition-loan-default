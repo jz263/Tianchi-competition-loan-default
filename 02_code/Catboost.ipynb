{
 "cells": [
  {
   "cell_type": "code",
   "execution_count": 1,
   "metadata": {},
   "outputs": [],
   "source": [
    "import pandas as pd\n",
    "import numpy as np\n",
    "import matplotlib.pyplot as plt\n",
    "import datetime\n",
    "from sklearn.preprocessing import StandardScaler\n",
    "from sklearn.metrics import accuracy_score, f1_score, roc_auc_score, log_loss\n",
    "from sklearn.preprocessing import MinMaxScaler\n",
    "from catboost import CatBoostRegressor,CatBoostClassifier\n",
    "import warnings\n",
    "from sklearn.model_selection import StratifiedKFold, KFold\n",
    "warnings.filterwarnings('ignore')"
   ]
  },
  {
   "cell_type": "code",
   "execution_count": 2,
   "metadata": {},
   "outputs": [],
   "source": [
    "data_train =pd.read_csv('../01_inter_data/train_cat_cleaned.csv')\n",
    "data_test_a = pd.read_csv('../01_inter_data/test_a_cat_cleaned.csv')\n",
    "data_test_a_id = pd.read_csv('../00_data/testA.csv')"
   ]
  },
  {
   "cell_type": "code",
   "execution_count": 3,
   "metadata": {},
   "outputs": [],
   "source": [
    "test_id = data_test_a_id['id']"
   ]
  },
  {
   "cell_type": "code",
   "execution_count": 4,
   "metadata": {},
   "outputs": [
    {
     "name": "stdout",
     "output_type": "stream",
     "text": [
      "<class 'pandas.core.frame.DataFrame'>\n",
      "RangeIndex: 800000 entries, 0 to 799999\n",
      "Data columns (total 46 columns):\n",
      " #   Column              Non-Null Count   Dtype  \n",
      "---  ------              --------------   -----  \n",
      " 0   id                  800000 non-null  int64  \n",
      " 1   loanAmnt            800000 non-null  float64\n",
      " 2   term                800000 non-null  int64  \n",
      " 3   interestRate        800000 non-null  float64\n",
      " 4   installment         800000 non-null  float64\n",
      " 5   grade               800000 non-null  object \n",
      " 6   subGrade            800000 non-null  object \n",
      " 7   employmentTitle     800000 non-null  float64\n",
      " 8   employmentLength    800000 non-null  float64\n",
      " 9   homeOwnership       800000 non-null  int64  \n",
      " 10  annualIncome        800000 non-null  float64\n",
      " 11  verificationStatus  800000 non-null  int64  \n",
      " 12  issueDate           800000 non-null  int64  \n",
      " 13  isDefault           800000 non-null  int64  \n",
      " 14  purpose             800000 non-null  int64  \n",
      " 15  postCode            800000 non-null  float64\n",
      " 16  regionCode          800000 non-null  int64  \n",
      " 17  dti                 800000 non-null  float64\n",
      " 18  delinquency_2years  800000 non-null  float64\n",
      " 19  ficoRangeLow        800000 non-null  float64\n",
      " 20  ficoRangeHigh       800000 non-null  float64\n",
      " 21  openAcc             800000 non-null  float64\n",
      " 22  pubRec              800000 non-null  float64\n",
      " 23  pubRecBankruptcies  800000 non-null  float64\n",
      " 24  revolBal            800000 non-null  float64\n",
      " 25  revolUtil           800000 non-null  float64\n",
      " 26  totalAcc            800000 non-null  float64\n",
      " 27  initialListStatus   800000 non-null  int64  \n",
      " 28  applicationType     800000 non-null  int64  \n",
      " 29  earliesCreditLine   800000 non-null  int64  \n",
      " 30  title               800000 non-null  float64\n",
      " 31  n0                  800000 non-null  float64\n",
      " 32  n1                  800000 non-null  float64\n",
      " 33  n2                  800000 non-null  float64\n",
      " 34  n4                  800000 non-null  float64\n",
      " 35  n5                  800000 non-null  float64\n",
      " 36  n6                  800000 non-null  float64\n",
      " 37  n7                  800000 non-null  float64\n",
      " 38  n8                  800000 non-null  float64\n",
      " 39  n9                  800000 non-null  float64\n",
      " 40  n10                 800000 non-null  float64\n",
      " 41  n11                 800000 non-null  float64\n",
      " 42  n12                 800000 non-null  float64\n",
      " 43  n13                 800000 non-null  float64\n",
      " 44  n14                 800000 non-null  float64\n",
      " 45  missrate            800000 non-null  float64\n",
      "dtypes: float64(33), int64(11), object(2)\n",
      "memory usage: 280.8+ MB\n"
     ]
    }
   ],
   "source": [
    "data_train.info(max_cols = 1000)"
   ]
  },
  {
   "cell_type": "code",
   "execution_count": 6,
   "metadata": {},
   "outputs": [],
   "source": [
    "cate_features = ['grade', 'subGrade', 'employmentTitle', 'homeOwnership', 'verificationStatus', 'purpose', 'postCode', \\\n",
    "                 'regionCode', 'applicationType', 'initialListStatus', 'title','employmentLength']\n"
   ]
  },
  {
   "cell_type": "code",
   "execution_count": 7,
   "metadata": {},
   "outputs": [
    {
     "name": "stdout",
     "output_type": "stream",
     "text": [
      "<class 'pandas.core.frame.DataFrame'>\n",
      "RangeIndex: 800000 entries, 0 to 799999\n",
      "Data columns (total 12 columns):\n",
      " #   Column              Non-Null Count   Dtype  \n",
      "---  ------              --------------   -----  \n",
      " 0   grade               800000 non-null  object \n",
      " 1   subGrade            800000 non-null  object \n",
      " 2   employmentTitle     800000 non-null  float64\n",
      " 3   homeOwnership       800000 non-null  int64  \n",
      " 4   verificationStatus  800000 non-null  int64  \n",
      " 5   purpose             800000 non-null  int64  \n",
      " 6   postCode            800000 non-null  float64\n",
      " 7   regionCode          800000 non-null  int64  \n",
      " 8   applicationType     800000 non-null  int64  \n",
      " 9   initialListStatus   800000 non-null  int64  \n",
      " 10  title               800000 non-null  float64\n",
      " 11  employmentLength    800000 non-null  float64\n",
      "dtypes: float64(4), int64(6), object(2)\n",
      "memory usage: 73.2+ MB\n"
     ]
    }
   ],
   "source": [
    "data_train[cate_features].info(max_cols = 1000)"
   ]
  },
  {
   "cell_type": "code",
   "execution_count": 8,
   "metadata": {},
   "outputs": [],
   "source": [
    "for data in [data_train, data_test_a]:\n",
    "    data[['employmentTitle','postCode','title','issueDate']] = data[['employmentTitle','postCode','title','issueDate']].astype('int')\n",
    "    data['employmentLength'] = data['employmentLength'].astype('str')"
   ]
  },
  {
   "cell_type": "code",
   "execution_count": 9,
   "metadata": {},
   "outputs": [
    {
     "name": "stdout",
     "output_type": "stream",
     "text": [
      "<class 'pandas.core.frame.DataFrame'>\n",
      "RangeIndex: 800000 entries, 0 to 799999\n",
      "Data columns (total 5 columns):\n",
      " #   Column            Non-Null Count   Dtype \n",
      "---  ------            --------------   ----- \n",
      " 0   employmentTitle   800000 non-null  int32 \n",
      " 1   postCode          800000 non-null  int32 \n",
      " 2   title             800000 non-null  int32 \n",
      " 3   issueDate         800000 non-null  int32 \n",
      " 4   employmentLength  800000 non-null  object\n",
      "dtypes: int32(4), object(1)\n",
      "memory usage: 18.3+ MB\n"
     ]
    }
   ],
   "source": [
    "data_train[['employmentTitle','postCode','title','issueDate','employmentLength']].info()"
   ]
  },
  {
   "cell_type": "code",
   "execution_count": 36,
   "metadata": {},
   "outputs": [],
   "source": [
    "def cv_model(clf, train_x, train_y, test_x, clf_name):\n",
    "    folds = 5\n",
    "    seed = 2019\n",
    "    kf = KFold(n_splits=folds, shuffle=True, random_state=seed)\n",
    "    \n",
    "    train = np.zeros(train_x.shape[0])\n",
    "    test = np.zeros(test_x.shape[0])\n",
    "\n",
    "    cv_scores = []\n",
    "\n",
    "    for i, (train_index, valid_index) in enumerate(kf.split(train_x, train_y)):\n",
    "        print('************************************ {} ************************************'.format(str(i+1)))\n",
    "        trn_x, trn_y, val_x, val_y = train_x.iloc[train_index], train_y[train_index], train_x.iloc[valid_index], train_y[valid_index]\n",
    "  \n",
    "        if clf_name == \"cat\":\n",
    "            params = {'learning_rate': 0.05, 'depth': 6, 'l2_leaf_reg': 15, 'bootstrap_type': 'No',\n",
    "                      'od_type': 'Iter', 'od_wait': 50, 'random_seed': 11, 'allow_writing_files': False,\n",
    "                      'class_weights' : {0:0.6246193725698402, 1: 2.506108639809536},'eval_metric':\"AUC\",\n",
    "                      'loss_function':'Logloss'}\n",
    "            \n",
    "            model = clf(iterations=20000,task_type=\"CPU\", **params)\n",
    "            #,gpu_ram_part=0.9,gpu_cat_features_storage = 'CpuPinnedMemory',max_ctr_complexity=1\n",
    "            model.fit(trn_x, trn_y, eval_set=(val_x, val_y),\n",
    "                      cat_features=cate_features, use_best_model=True, verbose=500)\n",
    "        \n",
    "            val_pred  = model.predict_proba(val_x)[:,1]\n",
    "            test_pred = model.predict_proba(test_x)[:,1]\n",
    "            \n",
    "        train[valid_index] = val_pred\n",
    "        test = test_pred / kf.n_splits\n",
    "        cv_scores.append(roc_auc_score(val_y, val_pred))\n",
    "        \n",
    "        print(cv_scores)\n",
    "        \n",
    "    print(\"%s_scotrainre_list:\" % clf_name, cv_scores)\n",
    "    print(\"%s_score_mean:\" % clf_name, np.mean(cv_scores))\n",
    "    print(\"%s_score_std:\" % clf_name, np.std(cv_scores))\n",
    "    return train, test"
   ]
  },
  {
   "cell_type": "code",
   "execution_count": 37,
   "metadata": {},
   "outputs": [],
   "source": [
    "def cat_model(x_train, y_train, x_test):\n",
    "    cat_train, cat_test = cv_model(CatBoostClassifier, x_train, y_train, x_test, \"cat\")\n",
    "    return cat_train, cat_test"
   ]
  },
  {
   "cell_type": "code",
   "execution_count": 38,
   "metadata": {},
   "outputs": [],
   "source": [
    "features = [f for f in data_train.columns if f not in ['id','isDefault']]\n",
    "x_train = data_train[features]\n",
    "x_test = data_test_a[features]\n",
    "y_train = data_train['isDefault']"
   ]
  },
  {
   "cell_type": "code",
   "execution_count": 39,
   "metadata": {},
   "outputs": [
    {
     "name": "stdout",
     "output_type": "stream",
     "text": [
      "************************************ 1 ************************************\n",
      "0:\ttest: 0.6984700\tbest: 0.6984700 (0)\ttotal: 701ms\tremaining: 3h 53m 34s\n",
      "500:\ttest: 0.7408745\tbest: 0.7408745 (500)\ttotal: 5m 42s\tremaining: 3h 42m 5s\n",
      "1000:\ttest: 0.7436331\tbest: 0.7436342 (995)\ttotal: 11m 38s\tremaining: 3h 41m\n",
      "1500:\ttest: 0.7446771\tbest: 0.7446771 (1500)\ttotal: 17m 33s\tremaining: 3h 36m 22s\n",
      "2000:\ttest: 0.7452198\tbest: 0.7452224 (1999)\ttotal: 23m 40s\tremaining: 3h 33m\n",
      "2500:\ttest: 0.7455951\tbest: 0.7456028 (2493)\ttotal: 29m 49s\tremaining: 3h 28m 42s\n",
      "Stopped by overfitting detector  (50 iterations wait)\n",
      "\n",
      "bestTest = 0.7458353078\n",
      "bestIteration = 2842\n",
      "\n",
      "Shrink model to first 2843 iterations.\n",
      "[0.7458353077885853]\n",
      "************************************ 2 ************************************\n",
      "0:\ttest: 0.7037753\tbest: 0.7037753 (0)\ttotal: 692ms\tremaining: 3h 50m 40s\n",
      "500:\ttest: 0.7398550\tbest: 0.7398550 (500)\ttotal: 5m 43s\tremaining: 3h 43m 7s\n",
      "1000:\ttest: 0.7418690\tbest: 0.7418724 (999)\ttotal: 11m 31s\tremaining: 3h 38m 48s\n",
      "1500:\ttest: 0.7426165\tbest: 0.7426173 (1497)\ttotal: 17m 27s\tremaining: 3h 35m 7s\n",
      "2000:\ttest: 0.7430819\tbest: 0.7430953 (1989)\ttotal: 23m 34s\tremaining: 3h 32m 3s\n",
      "Stopped by overfitting detector  (50 iterations wait)\n",
      "\n",
      "bestTest = 0.7432182247\n",
      "bestIteration = 2222\n",
      "\n",
      "Shrink model to first 2223 iterations.\n",
      "[0.7458353077885853, 0.7432182247477472]\n",
      "************************************ 3 ************************************\n",
      "0:\ttest: 0.7011869\tbest: 0.7011869 (0)\ttotal: 686ms\tremaining: 3h 48m 33s\n",
      "500:\ttest: 0.7399251\tbest: 0.7399251 (500)\ttotal: 5m 34s\tremaining: 3h 37m 3s\n",
      "1000:\ttest: 0.7422712\tbest: 0.7422713 (999)\ttotal: 11m 14s\tremaining: 3h 33m 20s\n",
      "1500:\ttest: 0.7431879\tbest: 0.7431879 (1500)\ttotal: 17m 5s\tremaining: 3h 30m 42s\n",
      "2000:\ttest: 0.7438066\tbest: 0.7438109 (1997)\ttotal: 23m 16s\tremaining: 3h 29m 22s\n",
      "Stopped by overfitting detector  (50 iterations wait)\n",
      "\n",
      "bestTest = 0.7440265963\n",
      "bestIteration = 2371\n",
      "\n",
      "Shrink model to first 2372 iterations.\n",
      "[0.7458353077885853, 0.7432182247477472, 0.7440265962793846]\n",
      "************************************ 4 ************************************\n",
      "0:\ttest: 0.6987036\tbest: 0.6987036 (0)\ttotal: 682ms\tremaining: 3h 47m 12s\n",
      "500:\ttest: 0.7381342\tbest: 0.7381342 (500)\ttotal: 5m 36s\tremaining: 3h 38m 21s\n",
      "1000:\ttest: 0.7406754\tbest: 0.7406754 (1000)\ttotal: 11m 19s\tremaining: 3h 35m 3s\n",
      "1500:\ttest: 0.7415665\tbest: 0.7415675 (1498)\ttotal: 17m 13s\tremaining: 3h 32m 13s\n",
      "2000:\ttest: 0.7420207\tbest: 0.7420270 (1977)\ttotal: 23m 17s\tremaining: 3h 29m 26s\n",
      "2500:\ttest: 0.7423932\tbest: 0.7424117 (2469)\ttotal: 29m 23s\tremaining: 3h 25m 38s\n",
      "Stopped by overfitting detector  (50 iterations wait)\n",
      "\n",
      "bestTest = 0.7424116887\n",
      "bestIteration = 2469\n",
      "\n",
      "Shrink model to first 2470 iterations.\n",
      "[0.7458353077885853, 0.7432182247477472, 0.7440265962793846, 0.7424116887249499]\n",
      "************************************ 5 ************************************\n",
      "0:\ttest: 0.7008833\tbest: 0.7008833 (0)\ttotal: 683ms\tremaining: 3h 47m 42s\n",
      "500:\ttest: 0.7377939\tbest: 0.7377939 (500)\ttotal: 5m 36s\tremaining: 3h 38m 11s\n",
      "1000:\ttest: 0.7402653\tbest: 0.7402653 (1000)\ttotal: 11m 32s\tremaining: 3h 38m 59s\n",
      "1500:\ttest: 0.7411821\tbest: 0.7411822 (1499)\ttotal: 17m 36s\tremaining: 3h 36m 55s\n",
      "2000:\ttest: 0.7417229\tbest: 0.7417230 (1999)\ttotal: 23m 33s\tremaining: 3h 31m 53s\n",
      "Stopped by overfitting detector  (50 iterations wait)\n",
      "\n",
      "bestTest = 0.7419693915\n",
      "bestIteration = 2269\n",
      "\n",
      "Shrink model to first 2270 iterations.\n",
      "[0.7458353077885853, 0.7432182247477472, 0.7440265962793846, 0.7424116887249499, 0.7419693914536432]\n",
      "cat_scotrainre_list: [0.7458353077885853, 0.7432182247477472, 0.7440265962793846, 0.7424116887249499, 0.7419693914536432]\n",
      "cat_score_mean: 0.743492241798862\n",
      "cat_score_std: 0.0013665464797677652\n"
     ]
    }
   ],
   "source": [
    "cat_train, cat_test = cat_model(x_train, y_train, x_test)"
   ]
  },
  {
   "cell_type": "code",
   "execution_count": 40,
   "metadata": {},
   "outputs": [],
   "source": [
    "data_test_a_id = pd.read_csv('../00_data/testA.csv')\n",
    "test_id = data_test_a_id['id']"
   ]
  },
  {
   "cell_type": "code",
   "execution_count": 2,
   "metadata": {},
   "outputs": [],
   "source": [
    "def generate_result(train_pred,test_pred):\n",
    "    test_result =pd.concat([test_id,pd.DataFrame(test_pred)],axis = 1)\n",
    "    test_result.columns = ['id','pred_test']\n",
    "    train_result = pd.concat([data_train.id,pd.DataFrame(train_pred),data_train.isDefault],axis = 1)\n",
    "    train_result.columns = ['id','pred_train','isDefault']\n",
    "    return test_result, train_result"
   ]
  },
  {
   "cell_type": "code",
   "execution_count": null,
   "metadata": {},
   "outputs": [],
   "source": [
    "generate_result(cat_train,cat_test)"
   ]
  },
  {
   "cell_type": "code",
   "execution_count": null,
   "metadata": {},
   "outputs": [],
   "source": [
    "test_result.to_csv('../03_result/testA_pred_cat_cpu_7434.csv',index = False)"
   ]
  }
 ],
 "metadata": {
  "kernelspec": {
   "display_name": "Python 3",
   "language": "python",
   "name": "python3"
  },
  "language_info": {
   "codemirror_mode": {
    "name": "ipython",
    "version": 3
   },
   "file_extension": ".py",
   "mimetype": "text/x-python",
   "name": "python",
   "nbconvert_exporter": "python",
   "pygments_lexer": "ipython3",
   "version": "3.7.6"
  }
 },
 "nbformat": 4,
 "nbformat_minor": 4
}
