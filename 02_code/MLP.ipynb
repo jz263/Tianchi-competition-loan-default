{
 "cells": [
  {
   "cell_type": "code",
   "execution_count": 3,
   "metadata": {},
   "outputs": [],
   "source": [
    "import pandas as pd\n",
    "import numpy as np\n",
    "import matplotlib.pyplot as plt\n",
    "import datetime\n",
    "from tqdm import tqdm\n",
    "from sklearn.preprocessing import StandardScaler\n",
    "from sklearn.metrics import accuracy_score, f1_score, roc_auc_score, log_loss\n",
    "from keras.models import Model, load_model\n",
    "#from keras.applications import ResNet50\n",
    "from keras.optimizers import Adam\n",
    "from keras.layers import Flatten, Dense, Dropout, Input\n",
    "from keras.callbacks import EarlyStopping, ModelCheckpoint\n",
    "import numpy as np\n",
    "import math\n",
    "from keras import backend as K  \n",
    "from keras.models import load_model\n",
    "from tensorflow.keras import regularizers\n",
    "from keras.callbacks import ReduceLROnPlateau\n",
    "import tensorflow as tf\n",
    "from sklearn.metrics import roc_auc_score"
   ]
  },
  {
   "cell_type": "code",
   "execution_count": 6,
   "metadata": {},
   "outputs": [
    {
     "data": {
      "text/plain": [
       "'10-11'"
      ]
     },
     "execution_count": 6,
     "metadata": {},
     "output_type": "execute_result"
    }
   ],
   "source": [
    "import datetime\n",
    "str(datetime.date.today())[-5:]"
   ]
  },
  {
   "cell_type": "code",
   "execution_count": 4,
   "metadata": {},
   "outputs": [],
   "source": [
    "#f.debugging.set_log_device_placement(True)"
   ]
  },
  {
   "cell_type": "code",
   "execution_count": 5,
   "metadata": {},
   "outputs": [],
   "source": [
    "data_train =pd.read_csv('../01_inter_data/train_xgb_cleaned_01.csv')\n",
    "data_test_a = pd.read_csv('../01_inter_data/test_a_xgb_cleaned_01.csv')"
   ]
  },
  {
   "cell_type": "code",
   "execution_count": null,
   "metadata": {},
   "outputs": [],
   "source": [
    "from tensorflow.python.client import device_lib \n"
   ]
  },
  {
   "cell_type": "code",
   "execution_count": 6,
   "metadata": {},
   "outputs": [
    {
     "data": {
      "text/plain": [
       "159610"
      ]
     },
     "execution_count": 6,
     "metadata": {},
     "output_type": "execute_result"
    }
   ],
   "source": [
    "len(data_train.loc[data_train.isDefault == 1])"
   ]
  },
  {
   "cell_type": "code",
   "execution_count": 7,
   "metadata": {},
   "outputs": [],
   "source": [
    "features = [f for f in data_train.columns if f not in ['id','isDefault']]\n",
    "x_train = data_train[features]\n",
    "x_test = data_test_a[features]\n",
    "y_train = data_train['isDefault']"
   ]
  },
  {
   "cell_type": "code",
   "execution_count": 8,
   "metadata": {},
   "outputs": [],
   "source": [
    "scale = StandardScaler()\n",
    "scale.fit(x_train)\n",
    "x_train = scale.transform(x_train)"
   ]
  },
  {
   "cell_type": "code",
   "execution_count": 9,
   "metadata": {},
   "outputs": [],
   "source": [
    "x_test = scale.transform(x_test)"
   ]
  },
  {
   "cell_type": "code",
   "execution_count": 10,
   "metadata": {},
   "outputs": [],
   "source": [
    "# find class_weights\n",
    "from sklearn.utils import class_weight"
   ]
  },
  {
   "cell_type": "code",
   "execution_count": 11,
   "metadata": {},
   "outputs": [],
   "source": [
    "class_weights = class_weight.compute_class_weight('balanced',\n",
    "                                                 np.unique(y_train),\n",
    "                                                 y_train)"
   ]
  },
  {
   "cell_type": "code",
   "execution_count": 12,
   "metadata": {},
   "outputs": [],
   "source": [
    "class_weights ={i:class_weights[i] for i in range(2)}"
   ]
  },
  {
   "cell_type": "code",
   "execution_count": 13,
   "metadata": {},
   "outputs": [
    {
     "data": {
      "text/plain": [
       "{0: 0.6246193725698402, 1: 2.506108639809536}"
      ]
     },
     "execution_count": 13,
     "metadata": {},
     "output_type": "execute_result"
    }
   ],
   "source": [
    "class_weights"
   ]
  },
  {
   "cell_type": "code",
   "execution_count": 14,
   "metadata": {},
   "outputs": [],
   "source": [
    "def auroc(y_true, y_pred):\n",
    "    try:\n",
    "        return tf.py_func(roc_auc_score, (y_true, y_pred), tf.double)\n",
    "    except ValueError:\n",
    "        pass\n",
    "#    return score"
   ]
  },
  {
   "cell_type": "code",
   "execution_count": 15,
   "metadata": {},
   "outputs": [],
   "source": [
    "nb_epoch = 600\n",
    "batch_size = 128\n",
    "feature_size = (x_train.shape[1])\n",
    "fc_layer_units = (512,128,32,8,2)"
   ]
  },
  {
   "cell_type": "code",
   "execution_count": 16,
   "metadata": {},
   "outputs": [],
   "source": [
    "def auc(y_true, y_pred):  \n",
    "    ptas = tf.stack([binary_PTA(y_true,y_pred,k) for k in np.linspace(0, 1, 100)],axis=0)  \n",
    "    pfas = tf.stack([binary_PFA(y_true,y_pred,k) for k in np.linspace(0, 1, 100)],axis=0)  \n",
    "    pfas = tf.concat([tf.ones((1,)) ,pfas],axis=0)  \n",
    "    binSizes = -(pfas[1:]-pfas[:-1])  \n",
    "    s = ptas*binSizes  \n",
    "    return K.sum(s, axis=0)  \n",
    "#-----------------------------------------------------------------------------------------------------------------------------------------------------  \n",
    "# PFA, prob false alert for binary classifier  \n",
    "def binary_PFA(y_true, y_pred, threshold=K.variable(value=0.5)):  \n",
    "    y_pred = K.cast(y_pred >= threshold, 'float32')  \n",
    "    # N = total number of negative labels  \n",
    "    N = K.sum(1 - y_true)  \n",
    "    # FP = total number of false alerts, alerts from the negative class labels  \n",
    "    FP = K.sum(y_pred - y_pred * y_true)  \n",
    "    return FP/N  \n",
    "#-----------------------------------------------------------------------------------------------------------------------------------------------------  \n",
    "# P_TA prob true alerts for binary classifier  \n",
    "def binary_PTA(y_true, y_pred, threshold=K.variable(value=0.5)):  \n",
    "    y_pred = K.cast(y_pred >= threshold, 'float32')  \n",
    "    # P = total number of positive labels  \n",
    "    P = K.sum(y_true)  \n",
    "    # TP = total number of correct alerts, alerts from the positive class labels  \n",
    "    TP = K.sum(y_pred * y_true)  \n",
    "    return TP/P  "
   ]
  },
  {
   "cell_type": "code",
   "execution_count": 17,
   "metadata": {},
   "outputs": [],
   "source": [
    "def fc_block(X,units,dropout,stage):\n",
    "    fc_name = 'fc' + str(stage)\n",
    "    X = Dense(units,activation ='elu',name = fc_name,kernel_regularizer=regularizers.l1_l2(l1=5e-6, l2=5e-5))(X)\n",
    "    X = Dropout(dropout)(X)\n",
    "    \n",
    "    return X\n",
    "\n",
    "def nnModel():\n",
    "    X_input = Input(shape=[feature_size])\n",
    "    X = Dropout(0.0)(X_input)\n",
    "    X = fc_block(X,fc_layer_units[0],dropout = 0.0,stage = 1)\n",
    "    X = fc_block(X,fc_layer_units[1],dropout = 0.0,stage = 2)\n",
    "    X = Dense(1,activation = 'sigmoid',name = 'fc3_output')(X)\n",
    "    \n",
    "    model = Model(inputs = X_input, outputs = X, name='nn_model')\n",
    "    return model"
   ]
  },
  {
   "cell_type": "code",
   "execution_count": 18,
   "metadata": {},
   "outputs": [],
   "source": [
    "def call_back():\n",
    "    reduce_lr = ReduceLROnPlateau(monitor='val_loss', factor = 0.2, patience=5, mode='auto', min_lr = 1e-7)\n",
    "    early_stopping = EarlyStopping(verbose=1, patience=10, monitor='val_loss')  \n",
    "    model_checkpoint = ModelCheckpoint(filepath='fengkongmlp.h5', verbose=1, save_best_only=True, monitor='val_loss')\n",
    "    callbacks = [early_stopping, model_checkpoint]\n",
    "    return callbacks"
   ]
  },
  {
   "cell_type": "code",
   "execution_count": 19,
   "metadata": {},
   "outputs": [],
   "source": [
    "def train_trans_model():\n",
    "    trans_model = load_model('fengkongmlp.h5',custom_objects={'auc':auc},compile = False)\n",
    "    trans_model.compile(optimizer = Adam(lr=2e-5), loss = \"binary_crossentropy\", metrics = [auc])\n",
    "    history_2 = trans_model.fit(x = x_train, y = y_train, validation_split=0.1, class_weight=class_weights,epochs = nb_epoch, batch_size = 64,callbacks=callbacks)\n",
    "    return history_2"
   ]
  },
  {
   "cell_type": "code",
   "execution_count": 20,
   "metadata": {},
   "outputs": [],
   "source": [
    "nn_model = nnModel()"
   ]
  },
  {
   "cell_type": "code",
   "execution_count": 21,
   "metadata": {},
   "outputs": [
    {
     "name": "stdout",
     "output_type": "stream",
     "text": [
      "Model: \"nn_model\"\n",
      "_________________________________________________________________\n",
      "Layer (type)                 Output Shape              Param #   \n",
      "=================================================================\n",
      "input_1 (InputLayer)         [(None, 147)]             0         \n",
      "_________________________________________________________________\n",
      "dropout (Dropout)            (None, 147)               0         \n",
      "_________________________________________________________________\n",
      "fc1 (Dense)                  (None, 512)               75776     \n",
      "_________________________________________________________________\n",
      "dropout_1 (Dropout)          (None, 512)               0         \n",
      "_________________________________________________________________\n",
      "fc2 (Dense)                  (None, 128)               65664     \n",
      "_________________________________________________________________\n",
      "dropout_2 (Dropout)          (None, 128)               0         \n",
      "_________________________________________________________________\n",
      "fc3_output (Dense)           (None, 1)                 129       \n",
      "=================================================================\n",
      "Total params: 141,569\n",
      "Trainable params: 141,569\n",
      "Non-trainable params: 0\n",
      "_________________________________________________________________\n"
     ]
    }
   ],
   "source": [
    "nn_model.summary()"
   ]
  },
  {
   "cell_type": "code",
   "execution_count": 22,
   "metadata": {},
   "outputs": [],
   "source": [
    "nn_model.compile(optimizer = Adam(lr= 2e-5), loss = \"binary_crossentropy\", metrics = [auc])"
   ]
  },
  {
   "cell_type": "code",
   "execution_count": 23,
   "metadata": {},
   "outputs": [],
   "source": [
    "callbacks = call_back()"
   ]
  },
  {
   "cell_type": "code",
   "execution_count": 24,
   "metadata": {
    "scrolled": false
   },
   "outputs": [
    {
     "name": "stdout",
     "output_type": "stream",
     "text": [
      "Epoch 1/600\n",
      "5617/5625 [============================>.] - ETA: 0s - loss: 0.6789 - auc: 0.7010\n",
      "Epoch 00001: val_loss improved from inf to 0.67292, saving model to fengkongmlp.h5\n",
      "5625/5625 [==============================] - 26s 5ms/step - loss: 0.6789 - auc: 0.7010 - val_loss: 0.6729 - val_auc: 0.7084\n",
      "Epoch 2/600\n",
      "5618/5625 [============================>.] - ETA: 0s - loss: 0.6703 - auc: 0.7097\n",
      "Epoch 00002: val_loss did not improve from 0.67292\n",
      "5625/5625 [==============================] - 26s 5ms/step - loss: 0.6703 - auc: 0.7097 - val_loss: 0.6741 - val_auc: 0.7101\n",
      "Epoch 3/600\n",
      "5619/5625 [============================>.] - ETA: 0s - loss: 0.6668 - auc: 0.7126\n",
      "Epoch 00003: val_loss improved from 0.67292 to 0.67105, saving model to fengkongmlp.h5\n",
      "5625/5625 [==============================] - 25s 5ms/step - loss: 0.6667 - auc: 0.7126 - val_loss: 0.6710 - val_auc: 0.7112\n",
      "Epoch 4/600\n",
      "5624/5625 [============================>.] - ETA: 0s - loss: 0.6640 - auc: 0.7147\n",
      "Epoch 00004: val_loss improved from 0.67105 to 0.66496, saving model to fengkongmlp.h5\n",
      "5625/5625 [==============================] - 25s 4ms/step - loss: 0.6640 - auc: 0.7147 - val_loss: 0.6650 - val_auc: 0.7134\n",
      "Epoch 5/600\n",
      "5617/5625 [============================>.] - ETA: 0s - loss: 0.6616 - auc: 0.7164\n",
      "Epoch 00005: val_loss improved from 0.66496 to 0.66277, saving model to fengkongmlp.h5\n",
      "5625/5625 [==============================] - 26s 5ms/step - loss: 0.6616 - auc: 0.7165 - val_loss: 0.6628 - val_auc: 0.7149\n",
      "Epoch 6/600\n",
      "5614/5625 [============================>.] - ETA: 0s - loss: 0.6593 - auc: 0.7179\n",
      "Epoch 00006: val_loss improved from 0.66277 to 0.66221, saving model to fengkongmlp.h5\n",
      "5625/5625 [==============================] - 26s 5ms/step - loss: 0.6594 - auc: 0.7179 - val_loss: 0.6622 - val_auc: 0.7160\n",
      "Epoch 7/600\n",
      "5622/5625 [============================>.] - ETA: 0s - loss: 0.6575 - auc: 0.7193\n",
      "Epoch 00007: val_loss improved from 0.66221 to 0.65123, saving model to fengkongmlp.h5\n",
      "5625/5625 [==============================] - 26s 5ms/step - loss: 0.6574 - auc: 0.7193 - val_loss: 0.6512 - val_auc: 0.7163\n",
      "Epoch 8/600\n",
      "5614/5625 [============================>.] - ETA: 0s - loss: 0.6558 - auc: 0.7203\n",
      "Epoch 00008: val_loss did not improve from 0.65123\n",
      "5625/5625 [==============================] - 26s 5ms/step - loss: 0.6557 - auc: 0.7203 - val_loss: 0.6523 - val_auc: 0.7177\n",
      "Epoch 9/600\n",
      "5615/5625 [============================>.] - ETA: 0s - loss: 0.6541 - auc: 0.7213\n",
      "Epoch 00009: val_loss did not improve from 0.65123\n",
      "5625/5625 [==============================] - 25s 4ms/step - loss: 0.6541 - auc: 0.7213 - val_loss: 0.6554 - val_auc: 0.7178\n",
      "Epoch 10/600\n",
      "5625/5625 [==============================] - ETA: 0s - loss: 0.6527 - auc: 0.7220\n",
      "Epoch 00010: val_loss did not improve from 0.65123\n",
      "5625/5625 [==============================] - 25s 4ms/step - loss: 0.6527 - auc: 0.7220 - val_loss: 0.6529 - val_auc: 0.7178\n",
      "Epoch 11/600\n",
      "5613/5625 [============================>.] - ETA: 0s - loss: 0.6512 - auc: 0.7228\n",
      "Epoch 00011: val_loss improved from 0.65123 to 0.64861, saving model to fengkongmlp.h5\n",
      "5625/5625 [==============================] - 25s 4ms/step - loss: 0.6512 - auc: 0.7228 - val_loss: 0.6486 - val_auc: 0.7187\n",
      "Epoch 12/600\n",
      "5622/5625 [============================>.] - ETA: 0s - loss: 0.6500 - auc: 0.7233\n",
      "Epoch 00012: val_loss did not improve from 0.64861\n",
      "5625/5625 [==============================] - 26s 5ms/step - loss: 0.6500 - auc: 0.7233 - val_loss: 0.6527 - val_auc: 0.7198\n",
      "Epoch 13/600\n",
      "5618/5625 [============================>.] - ETA: 0s - loss: 0.6487 - auc: 0.7243\n",
      "Epoch 00013: val_loss did not improve from 0.64861\n",
      "5625/5625 [==============================] - 33s 6ms/step - loss: 0.6487 - auc: 0.7243 - val_loss: 0.6527 - val_auc: 0.7189\n",
      "Epoch 14/600\n",
      "5616/5625 [============================>.] - ETA: 0s - loss: 0.6477 - auc: 0.7243-\n",
      "Epoch 00014: val_loss did not improve from 0.64861\n",
      "5625/5625 [==============================] - 34s 6ms/step - loss: 0.6477 - auc: 0.7243 - val_loss: 0.6518 - val_auc: 0.7190\n",
      "Epoch 15/600\n",
      "5616/5625 [============================>.] - ETA: 0s - loss: 0.6466 - auc: 0.7253\n",
      "Epoch 00015: val_loss did not improve from 0.64861\n",
      "5625/5625 [==============================] - 34s 6ms/step - loss: 0.6466 - auc: 0.7253 - val_loss: 0.6576 - val_auc: 0.7198\n",
      "Epoch 16/600\n",
      "5622/5625 [============================>.] - ETA: 0s - loss: 0.6455 - auc: 0.7257\n",
      "Epoch 00016: val_loss improved from 0.64861 to 0.64688, saving model to fengkongmlp.h5\n",
      "5625/5625 [==============================] - 34s 6ms/step - loss: 0.6455 - auc: 0.7257 - val_loss: 0.6469 - val_auc: 0.7203\n",
      "Epoch 17/600\n",
      "5619/5625 [============================>.] - ETA: 0s - loss: 0.6445 - auc: 0.7260\n",
      "Epoch 00017: val_loss improved from 0.64688 to 0.64601, saving model to fengkongmlp.h5\n",
      "5625/5625 [==============================] - 33s 6ms/step - loss: 0.6445 - auc: 0.7260 - val_loss: 0.6460 - val_auc: 0.7203\n",
      "Epoch 18/600\n",
      "5619/5625 [============================>.] - ETA: 0s - loss: 0.6436 - auc: 0.7266\n",
      "Epoch 00018: val_loss did not improve from 0.64601\n",
      "5625/5625 [==============================] - 34s 6ms/step - loss: 0.6436 - auc: 0.7266 - val_loss: 0.6508 - val_auc: 0.7207\n",
      "Epoch 19/600\n",
      "5621/5625 [============================>.] - ETA: 0s - loss: 0.6427 - auc: 0.7267\n",
      "Epoch 00019: val_loss improved from 0.64601 to 0.63875, saving model to fengkongmlp.h5\n",
      "5625/5625 [==============================] - 34s 6ms/step - loss: 0.6427 - auc: 0.7267 - val_loss: 0.6387 - val_auc: 0.7194\n",
      "Epoch 20/600\n",
      "5618/5625 [============================>.] - ETA: 0s - loss: 0.6418 - auc: 0.7273\n",
      "Epoch 00020: val_loss did not improve from 0.63875\n",
      "5625/5625 [==============================] - 30s 5ms/step - loss: 0.6418 - auc: 0.7273 - val_loss: 0.6451 - val_auc: 0.7208\n",
      "Epoch 21/600\n",
      "5620/5625 [============================>.] - ETA: 0s - loss: 0.6409 - auc: 0.7276\n",
      "Epoch 00021: val_loss did not improve from 0.63875\n",
      "5625/5625 [==============================] - 25s 4ms/step - loss: 0.6409 - auc: 0.7276 - val_loss: 0.6476 - val_auc: 0.7208\n",
      "Epoch 22/600\n",
      "5614/5625 [============================>.] - ETA: 0s - loss: 0.6401 - auc: 0.7279\n",
      "Epoch 00022: val_loss did not improve from 0.63875\n",
      "5625/5625 [==============================] - 26s 5ms/step - loss: 0.6400 - auc: 0.7279 - val_loss: 0.6426 - val_auc: 0.7209\n",
      "Epoch 23/600\n",
      "5616/5625 [============================>.] - ETA: 0s - loss: 0.6393 - auc: 0.7285\n",
      "Epoch 00023: val_loss did not improve from 0.63875\n",
      "5625/5625 [==============================] - 25s 5ms/step - loss: 0.6393 - auc: 0.7285 - val_loss: 0.6438 - val_auc: 0.7210\n",
      "Epoch 24/600\n",
      "5616/5625 [============================>.] - ETA: 0s - loss: 0.6386 - auc: 0.7286\n",
      "Epoch 00024: val_loss did not improve from 0.63875\n",
      "5625/5625 [==============================] - 26s 5ms/step - loss: 0.6385 - auc: 0.7287 - val_loss: 0.6462 - val_auc: 0.7211\n",
      "Epoch 25/600\n",
      "5616/5625 [============================>.] - ETA: 0s - loss: 0.6379 - auc: 0.7289\n",
      "Epoch 00025: val_loss did not improve from 0.63875\n",
      "5625/5625 [==============================] - 26s 5ms/step - loss: 0.6378 - auc: 0.7289 - val_loss: 0.6393 - val_auc: 0.7218\n",
      "Epoch 26/600\n",
      "5620/5625 [============================>.] - ETA: 0s - loss: 0.6371 - auc: 0.7290\n",
      "Epoch 00026: val_loss improved from 0.63875 to 0.63397, saving model to fengkongmlp.h5\n",
      "5625/5625 [==============================] - 25s 4ms/step - loss: 0.6371 - auc: 0.7290 - val_loss: 0.6340 - val_auc: 0.7215\n",
      "Epoch 27/600\n",
      "5613/5625 [============================>.] - ETA: 0s - loss: 0.6364 - auc: 0.7292\n",
      "Epoch 00027: val_loss did not improve from 0.63397\n",
      "5625/5625 [==============================] - 25s 4ms/step - loss: 0.6364 - auc: 0.7292 - val_loss: 0.6352 - val_auc: 0.7213\n",
      "Epoch 28/600\n",
      "5624/5625 [============================>.] - ETA: 0s - loss: 0.6357 - auc: 0.7296\n",
      "Epoch 00028: val_loss did not improve from 0.63397\n",
      "5625/5625 [==============================] - 25s 4ms/step - loss: 0.6357 - auc: 0.7296 - val_loss: 0.6402 - val_auc: 0.7215\n",
      "Epoch 29/600\n",
      "5613/5625 [============================>.] - ETA: 0s - loss: 0.6351 - auc: 0.7299\n",
      "Epoch 00029: val_loss did not improve from 0.63397\n",
      "5625/5625 [==============================] - 25s 4ms/step - loss: 0.6351 - auc: 0.7299 - val_loss: 0.6407 - val_auc: 0.7219\n"
     ]
    },
    {
     "name": "stdout",
     "output_type": "stream",
     "text": [
      "Epoch 30/600\n",
      "5624/5625 [============================>.] - ETA: 0s - loss: 0.6344 - auc: 0.7303\n",
      "Epoch 00030: val_loss did not improve from 0.63397\n",
      "5625/5625 [==============================] - 25s 4ms/step - loss: 0.6344 - auc: 0.7303 - val_loss: 0.6377 - val_auc: 0.7209\n",
      "Epoch 31/600\n",
      "5613/5625 [============================>.] - ETA: 0s - loss: 0.6338 - auc: 0.7302\n",
      "Epoch 00031: val_loss did not improve from 0.63397\n",
      "5625/5625 [==============================] - 25s 4ms/step - loss: 0.6338 - auc: 0.7302 - val_loss: 0.6436 - val_auc: 0.7220\n",
      "Epoch 32/600\n",
      "5617/5625 [============================>.] - ETA: 0s - loss: 0.6332 - auc: 0.7305\n",
      "Epoch 00032: val_loss did not improve from 0.63397\n",
      "5625/5625 [==============================] - 24s 4ms/step - loss: 0.6332 - auc: 0.7305 - val_loss: 0.6468 - val_auc: 0.7219\n",
      "Epoch 33/600\n",
      "5620/5625 [============================>.] - ETA: 0s - loss: 0.6327 - auc: 0.7311\n",
      "Epoch 00033: val_loss did not improve from 0.63397\n",
      "5625/5625 [==============================] - 25s 4ms/step - loss: 0.6327 - auc: 0.7311 - val_loss: 0.6388 - val_auc: 0.7212\n",
      "Epoch 34/600\n",
      "5619/5625 [============================>.] - ETA: 0s - loss: 0.6322 - auc: 0.7308\n",
      "Epoch 00034: val_loss did not improve from 0.63397\n",
      "5625/5625 [==============================] - 25s 4ms/step - loss: 0.6321 - auc: 0.7309 - val_loss: 0.6401 - val_auc: 0.7218\n",
      "Epoch 35/600\n",
      "5622/5625 [============================>.] - ETA: 0s - loss: 0.6315 - auc: 0.7309\n",
      "Epoch 00035: val_loss did not improve from 0.63397\n",
      "5625/5625 [==============================] - 25s 4ms/step - loss: 0.6316 - auc: 0.7309 - val_loss: 0.6398 - val_auc: 0.7227\n",
      "Epoch 36/600\n",
      "5614/5625 [============================>.] - ETA: 0s - loss: 0.6311 - auc: 0.7311\n",
      "Epoch 00036: val_loss did not improve from 0.63397\n",
      "5625/5625 [==============================] - 25s 4ms/step - loss: 0.6310 - auc: 0.7311 - val_loss: 0.6430 - val_auc: 0.7219\n",
      "Epoch 00036: early stopping\n"
     ]
    }
   ],
   "source": [
    "history = nn_model.fit(x = x_train, y = y_train, validation_split=0.1, class_weight=class_weights,epochs = nb_epoch, batch_size = batch_size,callbacks=callbacks)"
   ]
  },
  {
   "cell_type": "code",
   "execution_count": null,
   "metadata": {},
   "outputs": [],
   "source": [
    "history.history.keys()"
   ]
  },
  {
   "cell_type": "code",
   "execution_count": null,
   "metadata": {},
   "outputs": [],
   "source": [
    "plt.plot(history.history['loss'])\n",
    "plt.plot(history.history['val_loss'])\n",
    "plt.legend(['train', 'validate'], loc='upper left')"
   ]
  },
  {
   "cell_type": "code",
   "execution_count": null,
   "metadata": {},
   "outputs": [],
   "source": [
    "plt.plot(history.history['auc'])\n",
    "plt.plot(history.history['val_auc'])\n",
    "plt.legend(['train_auc', 'validate_auc'], loc='upper left')"
   ]
  },
  {
   "cell_type": "code",
   "execution_count": null,
   "metadata": {},
   "outputs": [],
   "source": [
    "plt.plot(np.append(history.history['loss'],history_2.history['loss']))\n",
    "plt.plot(np.append(history.history['val_loss'],history_2.history['val_loss']))\n",
    "plt.legend(['train', 'validate'], loc='upper left')"
   ]
  },
  {
   "cell_type": "code",
   "execution_count": null,
   "metadata": {},
   "outputs": [],
   "source": [
    "plt.plot(np.append(history.history['auc'],history_2.history['auc']))\n",
    "plt.plot(np.append(history.history['val_auc'],history_2.history['val_auc']))\n",
    "plt.legend(['train', 'validate'], loc='upper left')"
   ]
  },
  {
   "cell_type": "code",
   "execution_count": null,
   "metadata": {},
   "outputs": [],
   "source": []
  }
 ],
 "metadata": {
  "kernelspec": {
   "display_name": "Python 3",
   "language": "python",
   "name": "python3"
  },
  "language_info": {
   "codemirror_mode": {
    "name": "ipython",
    "version": 3
   },
   "file_extension": ".py",
   "mimetype": "text/x-python",
   "name": "python",
   "nbconvert_exporter": "python",
   "pygments_lexer": "ipython3",
   "version": "3.7.6"
  }
 },
 "nbformat": 4,
 "nbformat_minor": 4
}
